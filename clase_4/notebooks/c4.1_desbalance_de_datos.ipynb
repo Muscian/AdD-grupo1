{
 "cells": [
  {
   "cell_type": "markdown",
   "id": "metric-scene",
   "metadata": {},
   "source": [
    "# Clase 3. Preparación de datos. \n",
    "\n",
    "## Sección 4. Desbalance de datos.\n",
    "\n",
    "Este cuaderno contiene los ejemplos de la sección de desbalance de datos en python/SKLearn que acompañan a la [presentación de la clase](../add_clase3.pdf).\n",
    "\n",
    "**Ejemplos**\n",
    "\n",
    "- Undersampling\n",
    "- Oversampling\n",
    "- Generación de datos sintéticos"
   ]
  },
  {
   "cell_type": "code",
   "execution_count": 1,
   "id": "20706a0f",
   "metadata": {},
   "outputs": [
    {
     "name": "stdout",
     "output_type": "stream",
     "text": [
      "\u001b[33mDEPRECATION: Configuring installation scheme with distutils config files is deprecated and will no longer work in the near future. If you are using a Homebrew or Linuxbrew Python, please see discussion at https://github.com/Homebrew/homebrew-core/issues/76621\u001b[0m\u001b[33m\n",
      "\u001b[0mRequirement already satisfied: imbalanced-learn in /opt/homebrew/lib/python3.9/site-packages (0.10.1)\n",
      "Requirement already satisfied: numpy>=1.17.3 in /opt/homebrew/lib/python3.9/site-packages (from imbalanced-learn) (1.24.3)\n",
      "Requirement already satisfied: scipy>=1.3.2 in /opt/homebrew/lib/python3.9/site-packages (from imbalanced-learn) (1.10.1)\n",
      "Requirement already satisfied: joblib>=1.1.1 in /opt/homebrew/lib/python3.9/site-packages (from imbalanced-learn) (1.2.0)\n",
      "Requirement already satisfied: scikit-learn>=1.0.2 in /opt/homebrew/lib/python3.9/site-packages (from imbalanced-learn) (1.2.2)\n",
      "Requirement already satisfied: threadpoolctl>=2.0.0 in /opt/homebrew/lib/python3.9/site-packages (from imbalanced-learn) (3.1.0)\n",
      "\u001b[33mDEPRECATION: Configuring installation scheme with distutils config files is deprecated and will no longer work in the near future. If you are using a Homebrew or Linuxbrew Python, please see discussion at https://github.com/Homebrew/homebrew-core/issues/76621\u001b[0m\u001b[33m\n",
      "\u001b[0m\n",
      "\u001b[1m[\u001b[0m\u001b[34;49mnotice\u001b[0m\u001b[1;39;49m]\u001b[0m\u001b[39;49m A new release of pip available: \u001b[0m\u001b[31;49m22.3.1\u001b[0m\u001b[39;49m -> \u001b[0m\u001b[32;49m23.2.1\u001b[0m\n",
      "\u001b[1m[\u001b[0m\u001b[34;49mnotice\u001b[0m\u001b[1;39;49m]\u001b[0m\u001b[39;49m To update, run: \u001b[0m\u001b[32;49mpython3.9 -m pip install --upgrade pip\u001b[0m\n"
     ]
    }
   ],
   "source": [
    "!pip install imbalanced-learn"
   ]
  },
  {
   "cell_type": "code",
   "execution_count": 2,
   "id": "filled-piece",
   "metadata": {},
   "outputs": [
    {
     "ename": "ModuleNotFoundError",
     "evalue": "No module named 'pandas'",
     "output_type": "error",
     "traceback": [
      "\u001b[0;31m---------------------------------------------------------------------------\u001b[0m",
      "\u001b[0;31mModuleNotFoundError\u001b[0m                       Traceback (most recent call last)",
      "Cell \u001b[0;32mIn[2], line 5\u001b[0m\n\u001b[1;32m      2\u001b[0m get_ipython()\u001b[39m.\u001b[39mrun_line_magic(\u001b[39m'\u001b[39m\u001b[39mautoreload\u001b[39m\u001b[39m'\u001b[39m, \u001b[39m'\u001b[39m\u001b[39m2\u001b[39m\u001b[39m'\u001b[39m)\n\u001b[1;32m      4\u001b[0m \u001b[39m# Importamos librerías \u001b[39;00m\n\u001b[0;32m----> 5\u001b[0m \u001b[39mimport\u001b[39;00m \u001b[39mpandas\u001b[39;00m \u001b[39mas\u001b[39;00m \u001b[39mpd\u001b[39;00m\n\u001b[1;32m      6\u001b[0m \u001b[39mimport\u001b[39;00m \u001b[39mnumpy\u001b[39;00m \u001b[39mas\u001b[39;00m \u001b[39mnp\u001b[39;00m\n\u001b[1;32m      7\u001b[0m \u001b[39mimport\u001b[39;00m \u001b[39msklearn\u001b[39;00m\n",
      "\u001b[0;31mModuleNotFoundError\u001b[0m: No module named 'pandas'"
     ]
    }
   ],
   "source": [
    "%load_ext autoreload\n",
    "%autoreload 2\n",
    "\n",
    "# Importamos librerías \n",
    "import pandas as pd\n",
    "import numpy as np\n",
    "import sklearn\n",
    "import matplotlib\n",
    "import matplotlib.pyplot as plt\n",
    "import seaborn as sns; sns.set()\n",
    "import scipy.stats as stats\n",
    "\n",
    "# Entrenamiento de modelos de prueba\n",
    "from sklearn.linear_model import LinearRegression\n",
    "from sklearn.linear_model import LogisticRegression\n",
    "from sklearn.ensemble import AdaBoostClassifier\n",
    "from sklearn.ensemble import RandomForestClassifier\n",
    "from sklearn.ensemble import GradientBoostingClassifier\n",
    "from sklearn.neighbors import KNeighborsClassifier\n",
    "from sklearn.svm import SVC\n",
    "\n",
    "# Evaluación de modelos de prueba\n",
    "from sklearn.metrics import roc_auc_score\n",
    "from sklearn.metrics import fbeta_score\n",
    "from sklearn.metrics import mean_squared_error\n",
    "\n",
    "# Partición de train-test set\n",
    "from sklearn.model_selection import train_test_split\n",
    "\n",
    "# Pipelines\n",
    "from sklearn.pipeline import Pipeline\n",
    "\n",
    "# Crear datasets\n",
    "from sklearn.datasets import make_moons\n",
    "\n",
    "# Esquemas de entrenamiento\n",
    "from sklearn.model_selection import RepeatedStratifiedKFold, RepeatedKFold\n",
    "from sklearn.model_selection import cross_val_score\n",
    "\n",
    "# métodos necesarios para desbalance\n",
    "from imblearn.datasets import make_imbalance\n",
    "from collections import Counter\n",
    "\n",
    "#print(__doc__)\n",
    "#sns.set_context(\"poster\")\n",
    "\n",
    "np.random.seed(42)\n",
    "\n",
    "# Versiones de librerías\n",
    "print(\"\".join(f\"{x[0]}:{x[1]}\\n\" for x in [\n",
    "    (\"Pandas\",pd.__version__),\n",
    "    (\"Numpy\",np.__version__),\n",
    "    (\"Matplotlib\",matplotlib.__version__),\n",
    "    (\"SKlearn\",sklearn.__version__),\n",
    "    (\"Seaborn\",sns.__version__)\n",
    "]))"
   ]
  },
  {
   "cell_type": "markdown",
   "id": "ed5451b5",
   "metadata": {},
   "source": [
    "# Generación del dataset\n",
    "\n",
    "Para esta primera parte vamos a generar un dataset a partir de por ejemplo _make_moons_ y luego vamos a generar el desbalance de manera sintética"
   ]
  },
  {
   "cell_type": "code",
   "execution_count": null,
   "id": "c484bb64",
   "metadata": {},
   "outputs": [],
   "source": [
    "X, y = make_moons(n_samples=200, shuffle=True, noise=0.5, random_state=10)\n",
    "X = pd.DataFrame(X, columns=[\"feature 1\", \"feature 2\"])"
   ]
  },
  {
   "cell_type": "code",
   "execution_count": null,
   "id": "689f5c7b",
   "metadata": {},
   "outputs": [],
   "source": [
    "ax = X.plot.scatter(\n",
    "    x=\"feature 1\",\n",
    "    y=\"feature 2\",\n",
    "    c=y,\n",
    "    colormap=\"viridis\",\n",
    "    colorbar=False,\n",
    ")\n",
    "sns.despine(ax=ax, offset=10)\n",
    "plt.tight_layout()"
   ]
  },
  {
   "cell_type": "markdown",
   "id": "8638692b",
   "metadata": {},
   "source": [
    "## A desbalancear!!\n",
    "\n",
    "Para esto vamos a utilizar una función de la libreria que importamos `imbalanced-learn`"
   ]
  },
  {
   "cell_type": "code",
   "execution_count": null,
   "id": "144fc8c9",
   "metadata": {},
   "outputs": [],
   "source": [
    "def ratio_func(y, multiplier, minority_class):\n",
    "    target_stats = Counter(y)\n",
    "    return {minority_class: int(multiplier * target_stats[minority_class])}"
   ]
  },
  {
   "cell_type": "code",
   "execution_count": null,
   "id": "53c8b1f3",
   "metadata": {},
   "outputs": [],
   "source": [
    "fig, axs = plt.subplots(nrows=2, ncols=3, figsize=(15, 10))\n",
    "\n",
    "X.plot.scatter(\n",
    "    x=\"feature 1\",\n",
    "    y=\"feature 2\",\n",
    "    c=y,\n",
    "    ax=axs[0, 0],\n",
    "    colormap=\"viridis\",\n",
    "    colorbar=False,\n",
    ")\n",
    "axs[0, 0].set_title(\"Original set\")\n",
    "sns.despine(ax=axs[0, 0], offset=10)\n",
    "\n",
    "multipliers = [0.9, 0.75, 0.5, 0.25, 0.1]\n",
    "for ax, multiplier in zip(axs.ravel()[1:], multipliers):\n",
    "    X_resampled, y_resampled = make_imbalance(\n",
    "        X,\n",
    "        y,\n",
    "        sampling_strategy=ratio_func,\n",
    "        **{\"multiplier\": multiplier, \"minority_class\": 1},\n",
    "    )\n",
    "    X_resampled.plot.scatter(\n",
    "        x=\"feature 1\",\n",
    "        y=\"feature 2\",\n",
    "        c=y_resampled,\n",
    "        ax=ax,\n",
    "        colormap=\"viridis\",\n",
    "        colorbar=False,\n",
    "    )\n",
    "    ax.set_title(f\"Sampling ratio = {multiplier}\")\n",
    "    sns.despine(ax=ax, offset=10)\n",
    "\n",
    "plt.tight_layout()\n",
    "plt.show()"
   ]
  },
  {
   "cell_type": "markdown",
   "id": "7e704feb",
   "metadata": {},
   "source": [
    "## Efecto sobre el modelo\n",
    "\n",
    "Vamos a ver como se afecta el modelo a medida que comenzamos a desbalancear la muestra"
   ]
  },
  {
   "cell_type": "code",
   "execution_count": null,
   "id": "80bcbbe3",
   "metadata": {},
   "outputs": [],
   "source": [
    "from sklearn.base import clone\n",
    "\n",
    "models = [\n",
    "    (\"KNN\", KNeighborsClassifier(n_neighbors=5)),\n",
    "    (\"RandomForest\", RandomForestClassifier(n_estimators=200, random_state=42)),\n",
    "    (\"SVM\", SVC(random_state=44, probability=True, gamma='auto')),    \n",
    "    (\"LogisticRegression\", LogisticRegression(random_state=42, C=1000, solver='lbfgs'))\n",
    "]\n",
    "\n",
    "imb_ratios = [0.9, 0.75, 0.5, 0.25, 0.1]"
   ]
  },
  {
   "cell_type": "code",
   "execution_count": null,
   "id": "0765089b",
   "metadata": {},
   "outputs": [],
   "source": [
    "results = {}\n",
    "\n",
    "for m in models:\n",
    "    for ratio in imb_ratios:\n",
    "        # De la doc de SKlearn:\n",
    "        # Clone does a deep copy of the model in an estimator without actually copying attached data. \n",
    "        # It yields a new estimator with the same parameters that has not been fitted on any data.\n",
    "        model_name = m[0]\n",
    "        if model_name not in results.keys():\n",
    "            results[model_name] = {}\n",
    "        results[model_name][f\"imb_ratio_{ratio}\"] = {}\n",
    "        model = clone(m[1])\n",
    "\n",
    "        X_resampled, y_resampled = make_imbalance(\n",
    "            X,\n",
    "            y,\n",
    "            sampling_strategy = ratio_func,\n",
    "            **{\"multiplier\": ratio, \"minority_class\": 1},\n",
    "        )\n",
    "\n",
    "        X_train, X_test, y_train, y_test = train_test_split(\n",
    "            X_resampled,\n",
    "            y_resampled,\n",
    "            test_size = 0.3,\n",
    "            random_state = 0)\n",
    "\n",
    "        # Versión sin escalar features    \n",
    "        model.fit(X_train, y_train)\n",
    "        pred_train = model.predict(X_train)\n",
    "        pred_test = model.predict(X_test)\n",
    "\n",
    "        results[model_name][f\"imb_ratio_{ratio}\"][\"train\"] = fbeta_score(y_train, pred_train, beta=0.25)\n",
    "        results[model_name][f\"imb_ratio_{ratio}\"][\"test\"] = non_red_score_test = fbeta_score(y_test, pred_test, beta=0.25)\n",
    "\n",
    "\n",
    "results = pd.DataFrame([[model,split,score['train'],score['test']] for model, imb in results.items() for split, score in imb.items()],\n",
    " columns = ['model', 'ratio', 'train', 'test'])\n",
    "results"
   ]
  },
  {
   "cell_type": "code",
   "execution_count": null,
   "id": "0e268d3c",
   "metadata": {},
   "outputs": [],
   "source": [
    "g = sns.catplot(data = results,\n",
    "    x = 'model',\n",
    "    y = 'train',\n",
    "    hue = 'ratio',\n",
    "    kind = \"bar\")\n",
    "sns.move_legend(\n",
    "    g, \"lower center\",\n",
    "    bbox_to_anchor=(.5, 1), ncol=3, title = \"Imbalance ratio\", frameon = True,\n",
    ")\n",
    "plt.show(g)"
   ]
  }
 ],
 "metadata": {
  "kernelspec": {
   "display_name": "Python 3.10.7 64-bit",
   "language": "python",
   "name": "python3"
  },
  "language_info": {
   "codemirror_mode": {
    "name": "ipython",
    "version": 3
   },
   "file_extension": ".py",
   "mimetype": "text/x-python",
   "name": "python",
   "nbconvert_exporter": "python",
   "pygments_lexer": "ipython3",
   "version": "3.9.6"
  },
  "vscode": {
   "interpreter": {
    "hash": "b5c22da4a52024410f64f9c5a5e2b4ffeeb944a5ed00e8825a42174cdab30315"
   }
  }
 },
 "nbformat": 4,
 "nbformat_minor": 5
}
