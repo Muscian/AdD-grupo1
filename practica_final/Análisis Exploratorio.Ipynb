{
 "cells": [
  {
   "cell_type": "markdown",
   "metadata": {},
   "source": [
    "### Análisis de Casos COVID y Dependencias con Vacunas\n",
    "La práctica final de nuestro grupo constará del análisis del dataset publicado por el European Centre for Disease Prevention and Control sobre casos acumulativos de COVID-19 en 2020 y sus muertes asociadas, como parte del paper Demographic and public health characteristics explain large part of variability in COVID-19 mortality across countries.\n",
    "\n",
    "Link al paper:\n",
    "https://academic.oup.com/eurpub/article/31/1/12/6106197"
   ]
  },
  {
   "cell_type": "markdown",
   "metadata": {},
   "source": [
    "### Análisis Exploratorio\n",
    "\n",
    "Para comenzar con la práctica, comenzaremos por importar el dataset y aplicar diferentes técnicas explorativas vistas para comprender mejor con qué información contamos, y la relación entre las diferentes características contempladas.\n",
    "\n",
    "Luego, decidiremos cuál de las preguntas propuestas elegiremos para basar el resto de la práctica integradora.\n",
    "\n",
    "Estas preguntas pueden ser:\n",
    "\n",
    " - ¿Existe alguna correlación entre la obligatoriedad de la vacuna BCG y los\n",
    "casos?\n",
    " - ¿Se pueden encontrar valores de interés a nuestro análisis? ¿Cómo se\n",
    "comportan estos datos?\n"
   ]
  },
  {
   "cell_type": "code",
   "execution_count": 11,
   "metadata": {},
   "outputs": [
    {
     "data": {
      "text/html": [
       "<div>\n",
       "<style scoped>\n",
       "    .dataframe tbody tr th:only-of-type {\n",
       "        vertical-align: middle;\n",
       "    }\n",
       "\n",
       "    .dataframe tbody tr th {\n",
       "        vertical-align: top;\n",
       "    }\n",
       "\n",
       "    .dataframe thead th {\n",
       "        text-align: right;\n",
       "    }\n",
       "</style>\n",
       "<table border=\"1\" class=\"dataframe\">\n",
       "  <thead>\n",
       "    <tr style=\"text-align: right;\">\n",
       "      <th></th>\n",
       "      <th>dateRep</th>\n",
       "      <th>day</th>\n",
       "      <th>month</th>\n",
       "      <th>year</th>\n",
       "      <th>cases</th>\n",
       "      <th>deaths</th>\n",
       "      <th>countriesAndTerritories</th>\n",
       "      <th>geoId</th>\n",
       "      <th>countryterritoryCode</th>\n",
       "      <th>popData2019</th>\n",
       "      <th>continentExp</th>\n",
       "      <th>casesPerMillIn14Days</th>\n",
       "    </tr>\n",
       "  </thead>\n",
       "  <tbody>\n",
       "    <tr>\n",
       "      <th>0</th>\n",
       "      <td>14/12/2020</td>\n",
       "      <td>14</td>\n",
       "      <td>12</td>\n",
       "      <td>2020</td>\n",
       "      <td>746</td>\n",
       "      <td>6</td>\n",
       "      <td>Afghanistan</td>\n",
       "      <td>AF</td>\n",
       "      <td>AFG</td>\n",
       "      <td>38041757.0</td>\n",
       "      <td>Asia</td>\n",
       "      <td>9.013779</td>\n",
       "    </tr>\n",
       "  </tbody>\n",
       "</table>\n",
       "</div>"
      ],
      "text/plain": [
       "      dateRep  day  month  year  cases  deaths countriesAndTerritories geoId  \\\n",
       "0  14/12/2020   14     12  2020    746       6             Afghanistan    AF   \n",
       "\n",
       "  countryterritoryCode  popData2019 continentExp  casesPerMillIn14Days  \n",
       "0                  AFG   38041757.0         Asia              9.013779  "
      ]
     },
     "execution_count": 11,
     "metadata": {},
     "output_type": "execute_result"
    }
   ],
   "source": [
    "# Importamos librerías básicas\n",
    "import numpy as np\n",
    "import pandas as pd\n",
    "import matplotlib.pyplot as plt\n",
    "import seaborn as sns\n",
    "sns.set(rc={\n",
    "    'axes.facecolor': 'black',\n",
    "    'figure.facecolor': 'black',\n",
    "    'axes.labelcolor': 'white',\n",
    "    'xtick.color': 'white',\n",
    "    'ytick.color': 'white',\n",
    "    'axes.titlecolor': 'white'\n",
    "})\n",
    "\n",
    "# Cargamos el dataset\n",
    "data = pd.read_csv(\"./data/covid-dataset.txt\")\n",
    "\n",
    "# Cambiamos el nombre de la última columna para que sea un poco más corto\n",
    "data.rename(columns={'Cumulative_number_for_14_days_of_COVID-19_cases_per_100000': 'deathsPerMillCasesIn14Days'},inplace=True)\n",
    "\n",
    "# Visualizamos las primeras filas del dataset\n",
    "data.head(1)"
   ]
  },
  {
   "cell_type": "markdown",
   "metadata": {},
   "source": [
    "### Análisis y clasificación de variables\n",
    "\n",
    "Con un simple vistazo y sin contemplar la calidad y consistencia de las características del dataset, podemos realizar una pequeña descripción y clasificación de las variables que presenta:\n",
    "\n",
    "| Variable               | Tipo | Descripción |\n",
    "| ---------------------- | -----| ------------|\n",
    "| dateRep                |      |             |\n",
    "| day                    |      |             |\n",
    "| month                  |      |             |\n",
    "| year                   |      |             |\n",
    "| cases                  |      |             |\n",
    "| deaths                 |      |             |\n",
    "| countriesAndTerritories|      |             |\n",
    "| geoId      |           |      |             |\n",
    "| countryterritoryCode   |      |             |\n",
    "| popData2019            |      |             |\n",
    "| continentExp           |      |             |\n",
    "| casesPerMillIn14Days   |      |             |"
   ]
  }
 ],
 "metadata": {
  "kernelspec": {
   "display_name": "Python 3",
   "language": "python",
   "name": "python3"
  },
  "language_info": {
   "codemirror_mode": {
    "name": "ipython",
    "version": 3
   },
   "file_extension": ".py",
   "mimetype": "text/x-python",
   "name": "python",
   "nbconvert_exporter": "python",
   "pygments_lexer": "ipython3",
   "version": "3.11.4"
  }
 },
 "nbformat": 4,
 "nbformat_minor": 2
}
